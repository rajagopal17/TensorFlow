{
  "nbformat": 4,
  "nbformat_minor": 0,
  "metadata": {
    "colab": {
      "name": "Keras_Boston_Housing.ipynb",
      "version": "0.3.2",
      "provenance": [],
      "include_colab_link": true
    },
    "kernelspec": {
      "name": "python3",
      "display_name": "Python 3"
    }
  },
  "cells": [
    {
      "cell_type": "markdown",
      "metadata": {
        "id": "view-in-github",
        "colab_type": "text"
      },
      "source": [
        "<a href=\"https://colab.research.google.com/github/rajagopal17/Tensorflow/blob/master/Keras_Boston_Housing.ipynb\" target=\"_parent\"><img src=\"https://colab.research.google.com/assets/colab-badge.svg\" alt=\"Open In Colab\"/></a>"
      ]
    },
    {
      "metadata": {
        "id": "Q9fuWLMqnJS9",
        "colab_type": "code",
        "colab": {}
      },
      "cell_type": "code",
      "source": [
        "import pandas as pd\n",
        "import numpy as np\n",
        "import os\n",
        "import time\n",
        "import matplotlib.pyplot as plt\n",
        "from keras.utils import np_utils \n",
        "import tensorflow as tf\n",
        "import keras\n",
        "from keras.models import Sequential\n",
        "from keras.layers import InputLayer, Input\n",
        "from keras.layers import Reshape, MaxPooling2D\n",
        "from keras.layers import Conv2D, Dense,Flatten\n",
        "from keras.datasets import mnist\n",
        "from keras.layers import Input,Dropout, multiply\n",
        "from keras.layers import BatchNormalization, Activation, Embedding, ZeroPadding2D\n",
        "from keras.layers.advanced_activations import LeakyReLU\n",
        "from keras.layers.convolutional import UpSampling2D\n",
        "from keras.models import Model\n",
        "from keras.optimizers import Adam\n",
        "import seaborn as sns\n",
        "from keras.initializers import RandomNormal"
      ],
      "execution_count": 0,
      "outputs": []
    },
    {
      "metadata": {
        "id": "c1pARyXKnQBi",
        "colab_type": "code",
        "colab": {}
      },
      "cell_type": "code",
      "source": [
        "from keras.datasets import boston_housing"
      ],
      "execution_count": 0,
      "outputs": []
    },
    {
      "metadata": {
        "id": "isEhBEZinavZ",
        "colab_type": "code",
        "colab": {}
      },
      "cell_type": "code",
      "source": [
        "(X_train, y_train), (X_test, y_test) = boston_housing.load_data()\n"
      ],
      "execution_count": 0,
      "outputs": []
    },
    {
      "metadata": {
        "id": "jD8t0i34niQN",
        "colab_type": "code",
        "outputId": "015cd65c-92df-4f1d-d8b0-b593d33149c2",
        "colab": {
          "base_uri": "https://localhost:8080/",
          "height": 34
        }
      },
      "cell_type": "code",
      "source": [
        "xt=pd.DataFrame(X_train)\n",
        "X_train.shape[0]"
      ],
      "execution_count": 71,
      "outputs": [
        {
          "output_type": "execute_result",
          "data": {
            "text/plain": [
              "404"
            ]
          },
          "metadata": {
            "tags": []
          },
          "execution_count": 71
        }
      ]
    },
    {
      "metadata": {
        "id": "ZejjmPXCoz4G",
        "colab_type": "code",
        "colab": {}
      },
      "cell_type": "code",
      "source": [
        "model=Sequential()\n",
        "model.add(Dense(7,input_shape=(13,)))\n",
        "model.add(Activation(\"relu\"))\n",
        "model.add(Dropout(0.2))\n",
        "\n",
        "model.add(Dense(5))\n",
        "model.add(Activation(\"relu\"))\n",
        "model.add(Dropout(0.2))\n",
        "\n",
        "model.add(Dense(1))"
      ],
      "execution_count": 0,
      "outputs": []
    },
    {
      "metadata": {
        "id": "T2gG06tgH6eW",
        "colab_type": "code",
        "colab": {}
      },
      "cell_type": "code",
      "source": [
        "model.compile(optimizer='Adam', loss='mean_squared_error', metrics=['mse'])"
      ],
      "execution_count": 0,
      "outputs": []
    },
    {
      "metadata": {
        "id": "BwXLWGWutUPY",
        "colab_type": "code",
        "colab": {
          "base_uri": "https://localhost:8080/",
          "height": 5171
        },
        "outputId": "07f44131-edae-4d80-a867-6545c3b82ed6"
      },
      "cell_type": "code",
      "source": [
        "model.fit(X_train, y_train, batch_size = 50, epochs = 150, verbose = 1,validation_data=(X_test,y_test))"
      ],
      "execution_count": 74,
      "outputs": [
        {
          "output_type": "stream",
          "text": [
            "Train on 404 samples, validate on 102 samples\n",
            "Epoch 1/150\n",
            "404/404 [==============================] - 0s 1ms/step - loss: 2709.6865 - mean_squared_error: 2709.6865 - val_loss: 1075.6939 - val_mean_squared_error: 1075.6939\n",
            "Epoch 2/150\n",
            "404/404 [==============================] - 0s 45us/step - loss: 2594.0518 - mean_squared_error: 2594.0518 - val_loss: 749.4167 - val_mean_squared_error: 749.4167\n",
            "Epoch 3/150\n",
            "404/404 [==============================] - 0s 43us/step - loss: 2019.8655 - mean_squared_error: 2019.8655 - val_loss: 546.2126 - val_mean_squared_error: 546.2126\n",
            "Epoch 4/150\n",
            "404/404 [==============================] - 0s 47us/step - loss: 1302.2758 - mean_squared_error: 1302.2758 - val_loss: 433.3169 - val_mean_squared_error: 433.3169\n",
            "Epoch 5/150\n",
            "404/404 [==============================] - 0s 43us/step - loss: 1147.6583 - mean_squared_error: 1147.6583 - val_loss: 373.6510 - val_mean_squared_error: 373.6510\n",
            "Epoch 6/150\n",
            "404/404 [==============================] - 0s 42us/step - loss: 1026.4884 - mean_squared_error: 1026.4884 - val_loss: 344.9933 - val_mean_squared_error: 344.9933\n",
            "Epoch 7/150\n",
            "404/404 [==============================] - 0s 40us/step - loss: 953.2385 - mean_squared_error: 953.2385 - val_loss: 338.6605 - val_mean_squared_error: 338.6605\n",
            "Epoch 8/150\n",
            "404/404 [==============================] - 0s 40us/step - loss: 938.5947 - mean_squared_error: 938.5947 - val_loss: 341.5329 - val_mean_squared_error: 341.5329\n",
            "Epoch 9/150\n",
            "404/404 [==============================] - 0s 45us/step - loss: 925.2301 - mean_squared_error: 925.2301 - val_loss: 345.4969 - val_mean_squared_error: 345.4969\n",
            "Epoch 10/150\n",
            "404/404 [==============================] - 0s 42us/step - loss: 642.1566 - mean_squared_error: 642.1566 - val_loss: 351.6046 - val_mean_squared_error: 351.6046\n",
            "Epoch 11/150\n",
            "404/404 [==============================] - 0s 42us/step - loss: 939.5923 - mean_squared_error: 939.5923 - val_loss: 355.5759 - val_mean_squared_error: 355.5759\n",
            "Epoch 12/150\n",
            "404/404 [==============================] - 0s 40us/step - loss: 818.8095 - mean_squared_error: 818.8095 - val_loss: 358.6238 - val_mean_squared_error: 358.6238\n",
            "Epoch 13/150\n",
            "404/404 [==============================] - 0s 40us/step - loss: 753.9126 - mean_squared_error: 753.9126 - val_loss: 360.2989 - val_mean_squared_error: 360.2989\n",
            "Epoch 14/150\n",
            "404/404 [==============================] - 0s 42us/step - loss: 779.1720 - mean_squared_error: 779.1720 - val_loss: 352.9745 - val_mean_squared_error: 352.9745\n",
            "Epoch 15/150\n",
            "404/404 [==============================] - 0s 40us/step - loss: 735.8737 - mean_squared_error: 735.8737 - val_loss: 344.3900 - val_mean_squared_error: 344.3900\n",
            "Epoch 16/150\n",
            "404/404 [==============================] - 0s 43us/step - loss: 787.5877 - mean_squared_error: 787.5877 - val_loss: 336.7750 - val_mean_squared_error: 336.7750\n",
            "Epoch 17/150\n",
            "404/404 [==============================] - 0s 42us/step - loss: 588.7949 - mean_squared_error: 588.7949 - val_loss: 326.1723 - val_mean_squared_error: 326.1723\n",
            "Epoch 18/150\n",
            "404/404 [==============================] - 0s 44us/step - loss: 608.9206 - mean_squared_error: 608.9206 - val_loss: 321.0805 - val_mean_squared_error: 321.0805\n",
            "Epoch 19/150\n",
            "404/404 [==============================] - 0s 48us/step - loss: 643.4925 - mean_squared_error: 643.4925 - val_loss: 322.4346 - val_mean_squared_error: 322.4346\n",
            "Epoch 20/150\n",
            "404/404 [==============================] - 0s 41us/step - loss: 486.1392 - mean_squared_error: 486.1392 - val_loss: 318.4294 - val_mean_squared_error: 318.4294\n",
            "Epoch 21/150\n",
            "404/404 [==============================] - 0s 46us/step - loss: 535.7360 - mean_squared_error: 535.7360 - val_loss: 314.6497 - val_mean_squared_error: 314.6497\n",
            "Epoch 22/150\n",
            "404/404 [==============================] - 0s 38us/step - loss: 592.4099 - mean_squared_error: 592.4099 - val_loss: 306.6642 - val_mean_squared_error: 306.6642\n",
            "Epoch 23/150\n",
            "404/404 [==============================] - 0s 42us/step - loss: 480.1955 - mean_squared_error: 480.1955 - val_loss: 298.0376 - val_mean_squared_error: 298.0376\n",
            "Epoch 24/150\n",
            "404/404 [==============================] - 0s 44us/step - loss: 611.9945 - mean_squared_error: 611.9945 - val_loss: 292.8371 - val_mean_squared_error: 292.8371\n",
            "Epoch 25/150\n",
            "404/404 [==============================] - 0s 41us/step - loss: 528.2289 - mean_squared_error: 528.2289 - val_loss: 288.8253 - val_mean_squared_error: 288.8253\n",
            "Epoch 26/150\n",
            "404/404 [==============================] - 0s 43us/step - loss: 493.2158 - mean_squared_error: 493.2158 - val_loss: 282.7041 - val_mean_squared_error: 282.7041\n",
            "Epoch 27/150\n",
            "404/404 [==============================] - 0s 41us/step - loss: 538.0491 - mean_squared_error: 538.0491 - val_loss: 283.6521 - val_mean_squared_error: 283.6521\n",
            "Epoch 28/150\n",
            "404/404 [==============================] - 0s 38us/step - loss: 440.5932 - mean_squared_error: 440.5932 - val_loss: 281.4363 - val_mean_squared_error: 281.4363\n",
            "Epoch 29/150\n",
            "404/404 [==============================] - 0s 41us/step - loss: 527.8548 - mean_squared_error: 527.8548 - val_loss: 279.1590 - val_mean_squared_error: 279.1590\n",
            "Epoch 30/150\n",
            "404/404 [==============================] - 0s 37us/step - loss: 426.7620 - mean_squared_error: 426.7620 - val_loss: 277.2741 - val_mean_squared_error: 277.2741\n",
            "Epoch 31/150\n",
            "404/404 [==============================] - 0s 40us/step - loss: 411.9553 - mean_squared_error: 411.9553 - val_loss: 272.8141 - val_mean_squared_error: 272.8141\n",
            "Epoch 32/150\n",
            "404/404 [==============================] - 0s 42us/step - loss: 410.9920 - mean_squared_error: 410.9920 - val_loss: 267.5900 - val_mean_squared_error: 267.5900\n",
            "Epoch 33/150\n",
            "404/404 [==============================] - 0s 48us/step - loss: 394.6661 - mean_squared_error: 394.6661 - val_loss: 262.7939 - val_mean_squared_error: 262.7939\n",
            "Epoch 34/150\n",
            "404/404 [==============================] - 0s 46us/step - loss: 535.1853 - mean_squared_error: 535.1853 - val_loss: 266.3468 - val_mean_squared_error: 266.3468\n",
            "Epoch 35/150\n",
            "404/404 [==============================] - 0s 67us/step - loss: 460.4095 - mean_squared_error: 460.4095 - val_loss: 270.3886 - val_mean_squared_error: 270.3886\n",
            "Epoch 36/150\n",
            "404/404 [==============================] - 0s 48us/step - loss: 445.9986 - mean_squared_error: 445.9986 - val_loss: 270.8906 - val_mean_squared_error: 270.8906\n",
            "Epoch 37/150\n",
            "404/404 [==============================] - 0s 44us/step - loss: 412.7105 - mean_squared_error: 412.7105 - val_loss: 267.6190 - val_mean_squared_error: 267.6190\n",
            "Epoch 38/150\n",
            "404/404 [==============================] - 0s 51us/step - loss: 418.1951 - mean_squared_error: 418.1951 - val_loss: 266.0834 - val_mean_squared_error: 266.0834\n",
            "Epoch 39/150\n",
            "404/404 [==============================] - 0s 68us/step - loss: 371.7249 - mean_squared_error: 371.7249 - val_loss: 262.1895 - val_mean_squared_error: 262.1895\n",
            "Epoch 40/150\n",
            "404/404 [==============================] - 0s 56us/step - loss: 406.9271 - mean_squared_error: 406.9271 - val_loss: 257.2622 - val_mean_squared_error: 257.2622\n",
            "Epoch 41/150\n",
            "404/404 [==============================] - 0s 58us/step - loss: 452.6354 - mean_squared_error: 452.6354 - val_loss: 250.5275 - val_mean_squared_error: 250.5275\n",
            "Epoch 42/150\n",
            "404/404 [==============================] - 0s 51us/step - loss: 375.7305 - mean_squared_error: 375.7305 - val_loss: 248.0200 - val_mean_squared_error: 248.0200\n",
            "Epoch 43/150\n",
            "404/404 [==============================] - 0s 52us/step - loss: 351.7445 - mean_squared_error: 351.7445 - val_loss: 247.6161 - val_mean_squared_error: 247.6161\n",
            "Epoch 44/150\n",
            "404/404 [==============================] - 0s 42us/step - loss: 413.7645 - mean_squared_error: 413.7645 - val_loss: 245.0654 - val_mean_squared_error: 245.0654\n",
            "Epoch 45/150\n",
            "404/404 [==============================] - 0s 45us/step - loss: 363.2546 - mean_squared_error: 363.2546 - val_loss: 244.0737 - val_mean_squared_error: 244.0737\n",
            "Epoch 46/150\n",
            "404/404 [==============================] - 0s 53us/step - loss: 383.1092 - mean_squared_error: 383.1092 - val_loss: 240.8817 - val_mean_squared_error: 240.8817\n",
            "Epoch 47/150\n",
            "404/404 [==============================] - 0s 53us/step - loss: 349.7989 - mean_squared_error: 349.7989 - val_loss: 236.8351 - val_mean_squared_error: 236.8351\n",
            "Epoch 48/150\n",
            "404/404 [==============================] - 0s 53us/step - loss: 379.1877 - mean_squared_error: 379.1877 - val_loss: 236.8404 - val_mean_squared_error: 236.8404\n",
            "Epoch 49/150\n",
            "404/404 [==============================] - 0s 49us/step - loss: 327.1603 - mean_squared_error: 327.1603 - val_loss: 238.0413 - val_mean_squared_error: 238.0413\n",
            "Epoch 50/150\n",
            "404/404 [==============================] - 0s 47us/step - loss: 342.5209 - mean_squared_error: 342.5209 - val_loss: 236.2309 - val_mean_squared_error: 236.2309\n",
            "Epoch 51/150\n",
            "404/404 [==============================] - 0s 49us/step - loss: 401.7653 - mean_squared_error: 401.7653 - val_loss: 231.6742 - val_mean_squared_error: 231.6742\n",
            "Epoch 52/150\n",
            "404/404 [==============================] - 0s 54us/step - loss: 368.7645 - mean_squared_error: 368.7645 - val_loss: 227.5564 - val_mean_squared_error: 227.5564\n",
            "Epoch 53/150\n",
            "404/404 [==============================] - 0s 63us/step - loss: 334.0887 - mean_squared_error: 334.0887 - val_loss: 227.2138 - val_mean_squared_error: 227.2138\n",
            "Epoch 54/150\n",
            "404/404 [==============================] - 0s 41us/step - loss: 419.3001 - mean_squared_error: 419.3001 - val_loss: 225.7935 - val_mean_squared_error: 225.7935\n",
            "Epoch 55/150\n",
            "404/404 [==============================] - 0s 43us/step - loss: 342.9023 - mean_squared_error: 342.9023 - val_loss: 222.2736 - val_mean_squared_error: 222.2736\n",
            "Epoch 56/150\n",
            "404/404 [==============================] - 0s 38us/step - loss: 326.6629 - mean_squared_error: 326.6629 - val_loss: 214.0360 - val_mean_squared_error: 214.0360\n",
            "Epoch 57/150\n",
            "404/404 [==============================] - 0s 55us/step - loss: 349.7561 - mean_squared_error: 349.7561 - val_loss: 206.0755 - val_mean_squared_error: 206.0755\n",
            "Epoch 58/150\n",
            "404/404 [==============================] - 0s 51us/step - loss: 346.2722 - mean_squared_error: 346.2722 - val_loss: 202.4855 - val_mean_squared_error: 202.4855\n",
            "Epoch 59/150\n",
            "404/404 [==============================] - 0s 45us/step - loss: 291.9081 - mean_squared_error: 291.9081 - val_loss: 199.2512 - val_mean_squared_error: 199.2512\n",
            "Epoch 60/150\n",
            "404/404 [==============================] - 0s 45us/step - loss: 367.9559 - mean_squared_error: 367.9559 - val_loss: 192.6397 - val_mean_squared_error: 192.6397\n",
            "Epoch 61/150\n",
            "404/404 [==============================] - 0s 47us/step - loss: 344.6804 - mean_squared_error: 344.6804 - val_loss: 186.6171 - val_mean_squared_error: 186.6171\n",
            "Epoch 62/150\n",
            "404/404 [==============================] - 0s 50us/step - loss: 274.9028 - mean_squared_error: 274.9028 - val_loss: 178.0089 - val_mean_squared_error: 178.0089\n",
            "Epoch 63/150\n",
            "404/404 [==============================] - 0s 43us/step - loss: 315.1717 - mean_squared_error: 315.1717 - val_loss: 171.0074 - val_mean_squared_error: 171.0074\n",
            "Epoch 64/150\n",
            "404/404 [==============================] - 0s 43us/step - loss: 300.1580 - mean_squared_error: 300.1580 - val_loss: 167.5968 - val_mean_squared_error: 167.5968\n",
            "Epoch 65/150\n",
            "404/404 [==============================] - 0s 42us/step - loss: 255.4592 - mean_squared_error: 255.4592 - val_loss: 163.2543 - val_mean_squared_error: 163.2543\n",
            "Epoch 66/150\n",
            "404/404 [==============================] - 0s 40us/step - loss: 235.5519 - mean_squared_error: 235.5519 - val_loss: 161.5694 - val_mean_squared_error: 161.5694\n",
            "Epoch 67/150\n",
            "404/404 [==============================] - 0s 48us/step - loss: 268.1653 - mean_squared_error: 268.1653 - val_loss: 160.9068 - val_mean_squared_error: 160.9068\n",
            "Epoch 68/150\n",
            "404/404 [==============================] - 0s 44us/step - loss: 290.4346 - mean_squared_error: 290.4346 - val_loss: 160.5333 - val_mean_squared_error: 160.5333\n",
            "Epoch 69/150\n",
            "404/404 [==============================] - 0s 56us/step - loss: 253.9853 - mean_squared_error: 253.9853 - val_loss: 158.5973 - val_mean_squared_error: 158.5973\n",
            "Epoch 70/150\n",
            "404/404 [==============================] - 0s 44us/step - loss: 240.8270 - mean_squared_error: 240.8270 - val_loss: 155.5873 - val_mean_squared_error: 155.5873\n",
            "Epoch 71/150\n",
            "404/404 [==============================] - 0s 42us/step - loss: 271.2202 - mean_squared_error: 271.2202 - val_loss: 152.3621 - val_mean_squared_error: 152.3621\n",
            "Epoch 72/150\n",
            "404/404 [==============================] - 0s 44us/step - loss: 241.4600 - mean_squared_error: 241.4600 - val_loss: 155.2735 - val_mean_squared_error: 155.2735\n",
            "Epoch 73/150\n",
            "404/404 [==============================] - 0s 47us/step - loss: 282.3367 - mean_squared_error: 282.3367 - val_loss: 159.5573 - val_mean_squared_error: 159.5573\n",
            "Epoch 74/150\n",
            "404/404 [==============================] - 0s 49us/step - loss: 230.8043 - mean_squared_error: 230.8043 - val_loss: 162.8557 - val_mean_squared_error: 162.8557\n",
            "Epoch 75/150\n",
            "404/404 [==============================] - 0s 40us/step - loss: 229.6308 - mean_squared_error: 229.6308 - val_loss: 159.8011 - val_mean_squared_error: 159.8011\n",
            "Epoch 76/150\n",
            "404/404 [==============================] - 0s 46us/step - loss: 197.0322 - mean_squared_error: 197.0322 - val_loss: 156.4739 - val_mean_squared_error: 156.4739\n",
            "Epoch 77/150\n",
            "404/404 [==============================] - 0s 43us/step - loss: 219.4443 - mean_squared_error: 219.4443 - val_loss: 151.6436 - val_mean_squared_error: 151.6436\n",
            "Epoch 78/150\n",
            "404/404 [==============================] - 0s 40us/step - loss: 189.9410 - mean_squared_error: 189.9410 - val_loss: 149.4892 - val_mean_squared_error: 149.4892\n",
            "Epoch 79/150\n",
            "404/404 [==============================] - 0s 42us/step - loss: 238.4207 - mean_squared_error: 238.4207 - val_loss: 149.5182 - val_mean_squared_error: 149.5182\n",
            "Epoch 80/150\n",
            "404/404 [==============================] - 0s 48us/step - loss: 227.2455 - mean_squared_error: 227.2455 - val_loss: 148.1363 - val_mean_squared_error: 148.1363\n",
            "Epoch 81/150\n",
            "404/404 [==============================] - 0s 41us/step - loss: 234.6160 - mean_squared_error: 234.6160 - val_loss: 152.0169 - val_mean_squared_error: 152.0169\n",
            "Epoch 82/150\n",
            "404/404 [==============================] - 0s 48us/step - loss: 227.2093 - mean_squared_error: 227.2093 - val_loss: 153.2172 - val_mean_squared_error: 153.2172\n",
            "Epoch 83/150\n",
            "404/404 [==============================] - 0s 48us/step - loss: 208.5004 - mean_squared_error: 208.5004 - val_loss: 154.8636 - val_mean_squared_error: 154.8636\n",
            "Epoch 84/150\n",
            "404/404 [==============================] - 0s 38us/step - loss: 210.0336 - mean_squared_error: 210.0336 - val_loss: 156.0602 - val_mean_squared_error: 156.0602\n",
            "Epoch 85/150\n",
            "404/404 [==============================] - 0s 49us/step - loss: 226.0165 - mean_squared_error: 226.0165 - val_loss: 155.2185 - val_mean_squared_error: 155.2185\n",
            "Epoch 86/150\n",
            "404/404 [==============================] - 0s 46us/step - loss: 208.2014 - mean_squared_error: 208.2014 - val_loss: 157.2028 - val_mean_squared_error: 157.2028\n",
            "Epoch 87/150\n",
            "404/404 [==============================] - 0s 42us/step - loss: 211.6658 - mean_squared_error: 211.6658 - val_loss: 151.0571 - val_mean_squared_error: 151.0571\n",
            "Epoch 88/150\n",
            "404/404 [==============================] - 0s 44us/step - loss: 209.5715 - mean_squared_error: 209.5715 - val_loss: 147.4170 - val_mean_squared_error: 147.4170\n",
            "Epoch 89/150\n",
            "404/404 [==============================] - 0s 39us/step - loss: 196.1062 - mean_squared_error: 196.1062 - val_loss: 146.0663 - val_mean_squared_error: 146.0663\n",
            "Epoch 90/150\n",
            "404/404 [==============================] - 0s 47us/step - loss: 219.1841 - mean_squared_error: 219.1841 - val_loss: 148.8459 - val_mean_squared_error: 148.8459\n",
            "Epoch 91/150\n",
            "404/404 [==============================] - 0s 49us/step - loss: 214.2531 - mean_squared_error: 214.2531 - val_loss: 147.2726 - val_mean_squared_error: 147.2726\n",
            "Epoch 92/150\n",
            "404/404 [==============================] - 0s 39us/step - loss: 231.8447 - mean_squared_error: 231.8447 - val_loss: 145.0718 - val_mean_squared_error: 145.0718\n",
            "Epoch 93/150\n",
            "404/404 [==============================] - 0s 45us/step - loss: 199.0260 - mean_squared_error: 199.0260 - val_loss: 147.8175 - val_mean_squared_error: 147.8175\n",
            "Epoch 94/150\n",
            "404/404 [==============================] - 0s 51us/step - loss: 198.7418 - mean_squared_error: 198.7418 - val_loss: 145.4357 - val_mean_squared_error: 145.4357\n",
            "Epoch 95/150\n",
            "404/404 [==============================] - 0s 41us/step - loss: 207.6558 - mean_squared_error: 207.6558 - val_loss: 137.5177 - val_mean_squared_error: 137.5177\n",
            "Epoch 96/150\n",
            "404/404 [==============================] - 0s 51us/step - loss: 205.5300 - mean_squared_error: 205.5300 - val_loss: 136.0705 - val_mean_squared_error: 136.0705\n",
            "Epoch 97/150\n",
            "404/404 [==============================] - 0s 43us/step - loss: 190.8291 - mean_squared_error: 190.8291 - val_loss: 138.6337 - val_mean_squared_error: 138.6337\n",
            "Epoch 98/150\n",
            "404/404 [==============================] - 0s 43us/step - loss: 248.8098 - mean_squared_error: 248.8098 - val_loss: 144.9355 - val_mean_squared_error: 144.9355\n",
            "Epoch 99/150\n",
            "404/404 [==============================] - 0s 41us/step - loss: 245.2191 - mean_squared_error: 245.2191 - val_loss: 152.2059 - val_mean_squared_error: 152.2059\n",
            "Epoch 100/150\n",
            "404/404 [==============================] - 0s 39us/step - loss: 206.1685 - mean_squared_error: 206.1685 - val_loss: 152.1749 - val_mean_squared_error: 152.1749\n",
            "Epoch 101/150\n",
            "404/404 [==============================] - 0s 39us/step - loss: 202.2378 - mean_squared_error: 202.2378 - val_loss: 148.5036 - val_mean_squared_error: 148.5036\n",
            "Epoch 102/150\n",
            "404/404 [==============================] - 0s 47us/step - loss: 199.0717 - mean_squared_error: 199.0717 - val_loss: 144.5639 - val_mean_squared_error: 144.5639\n",
            "Epoch 103/150\n",
            "404/404 [==============================] - 0s 46us/step - loss: 194.0384 - mean_squared_error: 194.0384 - val_loss: 138.4664 - val_mean_squared_error: 138.4664\n",
            "Epoch 104/150\n",
            "404/404 [==============================] - 0s 48us/step - loss: 196.0922 - mean_squared_error: 196.0922 - val_loss: 135.7861 - val_mean_squared_error: 135.7861\n",
            "Epoch 105/150\n",
            "404/404 [==============================] - 0s 39us/step - loss: 226.4527 - mean_squared_error: 226.4527 - val_loss: 139.9059 - val_mean_squared_error: 139.9059\n",
            "Epoch 106/150\n",
            "404/404 [==============================] - 0s 52us/step - loss: 187.3906 - mean_squared_error: 187.3906 - val_loss: 140.4596 - val_mean_squared_error: 140.4596\n",
            "Epoch 107/150\n",
            "404/404 [==============================] - 0s 48us/step - loss: 171.2400 - mean_squared_error: 171.2400 - val_loss: 135.6753 - val_mean_squared_error: 135.6753\n",
            "Epoch 108/150\n",
            "404/404 [==============================] - 0s 45us/step - loss: 177.8794 - mean_squared_error: 177.8794 - val_loss: 131.5606 - val_mean_squared_error: 131.5606\n",
            "Epoch 109/150\n",
            "404/404 [==============================] - 0s 44us/step - loss: 174.4394 - mean_squared_error: 174.4394 - val_loss: 130.4168 - val_mean_squared_error: 130.4168\n",
            "Epoch 110/150\n",
            "404/404 [==============================] - 0s 46us/step - loss: 182.7887 - mean_squared_error: 182.7887 - val_loss: 128.7625 - val_mean_squared_error: 128.7625\n",
            "Epoch 111/150\n",
            "404/404 [==============================] - 0s 40us/step - loss: 204.9974 - mean_squared_error: 204.9974 - val_loss: 129.1723 - val_mean_squared_error: 129.1723\n",
            "Epoch 112/150\n",
            "404/404 [==============================] - 0s 45us/step - loss: 172.3040 - mean_squared_error: 172.3040 - val_loss: 133.1412 - val_mean_squared_error: 133.1412\n",
            "Epoch 113/150\n",
            "404/404 [==============================] - 0s 42us/step - loss: 206.7111 - mean_squared_error: 206.7111 - val_loss: 132.0507 - val_mean_squared_error: 132.0507\n",
            "Epoch 114/150\n",
            "404/404 [==============================] - 0s 40us/step - loss: 189.5765 - mean_squared_error: 189.5765 - val_loss: 136.0318 - val_mean_squared_error: 136.0318\n",
            "Epoch 115/150\n",
            "404/404 [==============================] - 0s 54us/step - loss: 181.1448 - mean_squared_error: 181.1448 - val_loss: 133.4064 - val_mean_squared_error: 133.4064\n",
            "Epoch 116/150\n",
            "404/404 [==============================] - 0s 41us/step - loss: 183.6101 - mean_squared_error: 183.6101 - val_loss: 133.5789 - val_mean_squared_error: 133.5789\n",
            "Epoch 117/150\n",
            "404/404 [==============================] - 0s 48us/step - loss: 175.9955 - mean_squared_error: 175.9955 - val_loss: 136.7146 - val_mean_squared_error: 136.7146\n",
            "Epoch 118/150\n",
            "404/404 [==============================] - 0s 44us/step - loss: 201.6011 - mean_squared_error: 201.6011 - val_loss: 133.0342 - val_mean_squared_error: 133.0342\n",
            "Epoch 119/150\n",
            "404/404 [==============================] - 0s 40us/step - loss: 197.9435 - mean_squared_error: 197.9435 - val_loss: 138.8763 - val_mean_squared_error: 138.8763\n",
            "Epoch 120/150\n",
            "404/404 [==============================] - 0s 46us/step - loss: 192.9963 - mean_squared_error: 192.9963 - val_loss: 137.4224 - val_mean_squared_error: 137.4224\n",
            "Epoch 121/150\n",
            "404/404 [==============================] - 0s 44us/step - loss: 189.6161 - mean_squared_error: 189.6161 - val_loss: 134.0055 - val_mean_squared_error: 134.0055\n",
            "Epoch 122/150\n",
            "404/404 [==============================] - 0s 45us/step - loss: 171.8115 - mean_squared_error: 171.8115 - val_loss: 139.3906 - val_mean_squared_error: 139.3906\n",
            "Epoch 123/150\n",
            "404/404 [==============================] - 0s 39us/step - loss: 196.5887 - mean_squared_error: 196.5887 - val_loss: 148.2973 - val_mean_squared_error: 148.2973\n",
            "Epoch 124/150\n",
            "404/404 [==============================] - 0s 54us/step - loss: 159.5502 - mean_squared_error: 159.5502 - val_loss: 142.7854 - val_mean_squared_error: 142.7854\n",
            "Epoch 125/150\n",
            "404/404 [==============================] - 0s 50us/step - loss: 178.6042 - mean_squared_error: 178.6042 - val_loss: 132.2738 - val_mean_squared_error: 132.2738\n",
            "Epoch 126/150\n",
            "404/404 [==============================] - 0s 44us/step - loss: 170.8611 - mean_squared_error: 170.8611 - val_loss: 127.1344 - val_mean_squared_error: 127.1344\n",
            "Epoch 127/150\n",
            "404/404 [==============================] - 0s 48us/step - loss: 162.3176 - mean_squared_error: 162.3176 - val_loss: 128.1865 - val_mean_squared_error: 128.1865\n",
            "Epoch 128/150\n",
            "404/404 [==============================] - 0s 49us/step - loss: 171.4994 - mean_squared_error: 171.4994 - val_loss: 124.5674 - val_mean_squared_error: 124.5674\n",
            "Epoch 129/150\n",
            "404/404 [==============================] - 0s 39us/step - loss: 202.9640 - mean_squared_error: 202.9640 - val_loss: 126.9049 - val_mean_squared_error: 126.9049\n",
            "Epoch 130/150\n",
            "404/404 [==============================] - 0s 41us/step - loss: 175.3185 - mean_squared_error: 175.3185 - val_loss: 133.4754 - val_mean_squared_error: 133.4754\n",
            "Epoch 131/150\n",
            "404/404 [==============================] - 0s 40us/step - loss: 169.5120 - mean_squared_error: 169.5120 - val_loss: 139.4038 - val_mean_squared_error: 139.4038\n",
            "Epoch 132/150\n",
            "404/404 [==============================] - 0s 39us/step - loss: 183.3700 - mean_squared_error: 183.3700 - val_loss: 135.4154 - val_mean_squared_error: 135.4154\n",
            "Epoch 133/150\n",
            "404/404 [==============================] - 0s 48us/step - loss: 196.7759 - mean_squared_error: 196.7759 - val_loss: 133.0892 - val_mean_squared_error: 133.0892\n",
            "Epoch 134/150\n",
            "404/404 [==============================] - 0s 40us/step - loss: 176.8565 - mean_squared_error: 176.8565 - val_loss: 128.5755 - val_mean_squared_error: 128.5755\n",
            "Epoch 135/150\n",
            "404/404 [==============================] - 0s 50us/step - loss: 176.5048 - mean_squared_error: 176.5048 - val_loss: 126.3328 - val_mean_squared_error: 126.3328\n",
            "Epoch 136/150\n",
            "404/404 [==============================] - 0s 44us/step - loss: 171.7659 - mean_squared_error: 171.7659 - val_loss: 127.3397 - val_mean_squared_error: 127.3397\n",
            "Epoch 137/150\n",
            "404/404 [==============================] - 0s 46us/step - loss: 194.7572 - mean_squared_error: 194.7572 - val_loss: 124.0527 - val_mean_squared_error: 124.0527\n",
            "Epoch 138/150\n",
            "404/404 [==============================] - 0s 52us/step - loss: 172.8434 - mean_squared_error: 172.8434 - val_loss: 130.4150 - val_mean_squared_error: 130.4150\n",
            "Epoch 139/150\n",
            "404/404 [==============================] - 0s 47us/step - loss: 154.2632 - mean_squared_error: 154.2632 - val_loss: 132.2236 - val_mean_squared_error: 132.2236\n",
            "Epoch 140/150\n",
            "404/404 [==============================] - 0s 42us/step - loss: 169.5143 - mean_squared_error: 169.5143 - val_loss: 128.0129 - val_mean_squared_error: 128.0129\n",
            "Epoch 141/150\n",
            "404/404 [==============================] - 0s 40us/step - loss: 172.4005 - mean_squared_error: 172.4005 - val_loss: 121.9574 - val_mean_squared_error: 121.9574\n",
            "Epoch 142/150\n",
            "404/404 [==============================] - 0s 45us/step - loss: 201.8192 - mean_squared_error: 201.8192 - val_loss: 122.5037 - val_mean_squared_error: 122.5037\n",
            "Epoch 143/150\n",
            "404/404 [==============================] - 0s 45us/step - loss: 177.7514 - mean_squared_error: 177.7514 - val_loss: 127.9452 - val_mean_squared_error: 127.9452\n",
            "Epoch 144/150\n",
            "404/404 [==============================] - 0s 39us/step - loss: 155.4880 - mean_squared_error: 155.4880 - val_loss: 126.1922 - val_mean_squared_error: 126.1922\n",
            "Epoch 145/150\n",
            "404/404 [==============================] - 0s 45us/step - loss: 151.6906 - mean_squared_error: 151.6906 - val_loss: 127.1687 - val_mean_squared_error: 127.1687\n",
            "Epoch 146/150\n",
            "404/404 [==============================] - 0s 40us/step - loss: 154.5240 - mean_squared_error: 154.5240 - val_loss: 126.7741 - val_mean_squared_error: 126.7741\n",
            "Epoch 147/150\n",
            "404/404 [==============================] - 0s 40us/step - loss: 171.8838 - mean_squared_error: 171.8838 - val_loss: 114.2074 - val_mean_squared_error: 114.2074\n",
            "Epoch 148/150\n",
            "404/404 [==============================] - 0s 51us/step - loss: 177.5949 - mean_squared_error: 177.5949 - val_loss: 115.1328 - val_mean_squared_error: 115.1328\n",
            "Epoch 149/150\n",
            "404/404 [==============================] - 0s 55us/step - loss: 177.1119 - mean_squared_error: 177.1119 - val_loss: 118.8699 - val_mean_squared_error: 118.8699\n",
            "Epoch 150/150\n",
            "404/404 [==============================] - 0s 42us/step - loss: 157.4496 - mean_squared_error: 157.4496 - val_loss: 129.1624 - val_mean_squared_error: 129.1624\n"
          ],
          "name": "stdout"
        },
        {
          "output_type": "execute_result",
          "data": {
            "text/plain": [
              "<keras.callbacks.History at 0x7f92874b4cc0>"
            ]
          },
          "metadata": {
            "tags": []
          },
          "execution_count": 74
        }
      ]
    },
    {
      "metadata": {
        "id": "JeY_e-hEwf2L",
        "colab_type": "code",
        "colab": {
          "base_uri": "https://localhost:8080/",
          "height": 51
        },
        "outputId": "164286ce-e566-44f6-a928-4f9398a4d862"
      },
      "cell_type": "code",
      "source": [
        "score = model.evaluate(X_test, y_test, verbose=0) \n",
        "print('Test score:', score[0]) \n",
        "print('Test accuracy:', score[1])"
      ],
      "execution_count": 77,
      "outputs": [
        {
          "output_type": "stream",
          "text": [
            "Test score: 129.16237027037377\n",
            "Test accuracy: 129.16237027037377\n"
          ],
          "name": "stdout"
        }
      ]
    },
    {
      "metadata": {
        "id": "aXFvxL3tw6bT",
        "colab_type": "code",
        "colab": {
          "base_uri": "https://localhost:8080/",
          "height": 68
        },
        "outputId": "aa25cad6-97a2-430d-f173-621c36e840d2"
      },
      "cell_type": "code",
      "source": [
        "predicted_classes = model.predict_classes(X_test)\n",
        "# see which we predicted correctly and which not\n",
        "correct_indices = np.nonzero(predicted_classes == y_test)[0]\n",
        "incorrect_indices = np.nonzero(predicted_classes != y_test)[0]\n",
        "\n",
        "print(\"Find the answer below :\")\n",
        "print(len(correct_indices),\"---- classified correctly\")\n",
        "print(len(incorrect_indices),\"--- classified incorrectly\")\n"
      ],
      "execution_count": 76,
      "outputs": [
        {
          "output_type": "stream",
          "text": [
            "Find the answer below :\n",
            "0 ---- classified correctly\n",
            "10404 --- classified incorrectly\n"
          ],
          "name": "stdout"
        }
      ]
    },
    {
      "metadata": {
        "id": "si9b2wqNxHUm",
        "colab_type": "code",
        "colab": {
          "base_uri": "https://localhost:8080/",
          "height": 68
        },
        "outputId": "d7fba5cc-d1b2-4f18-8363-3c97eb7e7a85"
      },
      "cell_type": "code",
      "source": [
        "results = model.evaluate(X_test, y_test)\n",
        "\n",
        "print('loss: ', results[0])\n",
        "print('mse: ', results[1])"
      ],
      "execution_count": 75,
      "outputs": [
        {
          "output_type": "stream",
          "text": [
            "102/102 [==============================] - 0s 82us/step\n",
            "loss:  129.16237027037377\n",
            "mse:  129.16237027037377\n"
          ],
          "name": "stdout"
        }
      ]
    }
  ]
}